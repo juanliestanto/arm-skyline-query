{
  "nbformat": 4,
  "nbformat_minor": 0,
  "metadata": {
    "colab": {
      "provenance": []
    },
    "kernelspec": {
      "name": "python3",
      "display_name": "Python 3"
    },
    "language_info": {
      "name": "python"
    }
  },
  "cells": [
    {
      "cell_type": "code",
      "execution_count": null,
      "metadata": {
        "id": "TxCPS3cKIw2D"
      },
      "outputs": [],
      "source": [
        "import pandas as pd"
      ]
    },
    {
      "cell_type": "markdown",
      "source": [
        "Code di atas digunakan untuk mengimport pandas agar dapat membuat data menjadi data frame."
      ],
      "metadata": {
        "id": "olSQouKXxGZB"
      }
    },
    {
      "cell_type": "code",
      "source": [
        "df = pd.read_csv('Final_Pulse_Data.csv')"
      ],
      "metadata": {
        "id": "U0KwNPoCI3Ug",
        "colab": {
          "base_uri": "https://localhost:8080/"
        },
        "outputId": "add57132-5e13-4a66-9f04-903e70e986fb"
      },
      "execution_count": null,
      "outputs": [
        {
          "output_type": "stream",
          "name": "stderr",
          "text": [
            "/usr/local/lib/python3.7/dist-packages/IPython/core/interactiveshell.py:2718: DtypeWarning: Columns (6,7,8,9,10,11,12,14,15,16,17,18,19,20,21,22,23,24,25,28,29,30,31,32,33,34,35) have mixed types.Specify dtype option on import or set low_memory=False.\n",
            "  interactivity=interactivity, compiler=compiler, result=result)\n"
          ]
        }
      ]
    },
    {
      "cell_type": "markdown",
      "source": [
        "Code di atas digunakan untuk membaca file csv.\n"
      ],
      "metadata": {
        "id": "mjf2VApFxUIy"
      }
    },
    {
      "cell_type": "code",
      "source": [
        "df.head()"
      ],
      "metadata": {
        "colab": {
          "base_uri": "https://localhost:8080/",
          "height": 461
        },
        "id": "BBNn13FLw0W1",
        "outputId": "4c765d35-3df2-4cc8-8f97-c23cc35301ea"
      },
      "execution_count": null,
      "outputs": [
        {
          "output_type": "execute_result",
          "data": {
            "text/html": [
              "\n",
              "  <div id=\"df-8249c45b-b54a-46ee-93a4-945881725df1\">\n",
              "    <div class=\"colab-df-container\">\n",
              "      <div>\n",
              "<style scoped>\n",
              "    .dataframe tbody tr th:only-of-type {\n",
              "        vertical-align: middle;\n",
              "    }\n",
              "\n",
              "    .dataframe tbody tr th {\n",
              "        vertical-align: top;\n",
              "    }\n",
              "\n",
              "    .dataframe thead th {\n",
              "        text-align: right;\n",
              "    }\n",
              "</style>\n",
              "<table border=\"1\" class=\"dataframe\">\n",
              "  <thead>\n",
              "    <tr style=\"text-align: right;\">\n",
              "      <th></th>\n",
              "      <th>Enough of the kinds of food wanted</th>\n",
              "      <th>Enough Food, but not always the kinds wanted</th>\n",
              "      <th>Sometimes not enough to eat</th>\n",
              "      <th>Often not enough to eat</th>\n",
              "      <th>Did not report</th>\n",
              "      <th>Age</th>\n",
              "      <th>Sex_At_Birth</th>\n",
              "      <th>Race</th>\n",
              "      <th>Education</th>\n",
              "      <th>Marital_Status</th>\n",
              "      <th>Children_Present</th>\n",
              "      <th>Unemployed_Last_4</th>\n",
              "      <th>Employed_Last_7</th>\n",
              "      <th>Reason_Not_Working</th>\n",
              "      <th>Receiving_Pay_No_Work</th>\n",
              "      <th>Income</th>\n",
              "      <th>Health_Status</th>\n",
              "      <th>Freq_Feel_Anxious</th>\n",
              "      <th>Freq_Feel_Control_Worry</th>\n",
              "      <th>Freq_Feel_Lil_Interest</th>\n",
              "      <th>Freq_Feel_Depressed</th>\n",
              "      <th>Covered_By_Insurance</th>\n",
              "      <th>Caught_Up_On_Mortgage</th>\n",
              "      <th>Conf_Pay_Next_Rent_or_Mortgage</th>\n",
              "      <th>Free_Groceries</th>\n",
              "      <th>Provider_Of_Free_Groceries</th>\n",
              "      <th>Location</th>\n",
              "      <th>Week</th>\n",
              "      <th>Household_Size</th>\n",
              "      <th>Used_To_Meet_Needs</th>\n",
              "      <th>House_Receives_SNAP</th>\n",
              "      <th>Active_Duty</th>\n",
              "      <th>Difficulty_Seeing</th>\n",
              "      <th>Difficulty_Hearing</th>\n",
              "      <th>Difficulty_Remembering</th>\n",
              "      <th>Difficulty_Walking_Climbing</th>\n",
              "      <th>Sexual_Orientation</th>\n",
              "      <th>LGBT</th>\n",
              "      <th>week_name</th>\n",
              "      <th>Year</th>\n",
              "    </tr>\n",
              "  </thead>\n",
              "  <tbody>\n",
              "    <tr>\n",
              "      <th>0</th>\n",
              "      <td>7385094.0</td>\n",
              "      <td>5545508.0</td>\n",
              "      <td>1746758.0</td>\n",
              "      <td>290127.0</td>\n",
              "      <td>256787.0</td>\n",
              "      <td>18 - 24</td>\n",
              "      <td>NaN</td>\n",
              "      <td>NaN</td>\n",
              "      <td>NaN</td>\n",
              "      <td>NaN</td>\n",
              "      <td>NaN</td>\n",
              "      <td>NaN</td>\n",
              "      <td>NaN</td>\n",
              "      <td>NaN</td>\n",
              "      <td>NaN</td>\n",
              "      <td>NaN</td>\n",
              "      <td>NaN</td>\n",
              "      <td>NaN</td>\n",
              "      <td>NaN</td>\n",
              "      <td>NaN</td>\n",
              "      <td>NaN</td>\n",
              "      <td>NaN</td>\n",
              "      <td>NaN</td>\n",
              "      <td>NaN</td>\n",
              "      <td>NaN</td>\n",
              "      <td>NaN</td>\n",
              "      <td>US</td>\n",
              "      <td>week1</td>\n",
              "      <td>NaN</td>\n",
              "      <td>NaN</td>\n",
              "      <td>NaN</td>\n",
              "      <td>NaN</td>\n",
              "      <td>NaN</td>\n",
              "      <td>NaN</td>\n",
              "      <td>NaN</td>\n",
              "      <td>NaN</td>\n",
              "      <td>NaN</td>\n",
              "      <td>NaN</td>\n",
              "      <td>April 23 - May 5</td>\n",
              "      <td>2020.0</td>\n",
              "    </tr>\n",
              "    <tr>\n",
              "      <th>1</th>\n",
              "      <td>38162462.0</td>\n",
              "      <td>25773735.0</td>\n",
              "      <td>8318100.0</td>\n",
              "      <td>1971396.0</td>\n",
              "      <td>1399463.0</td>\n",
              "      <td>25 - 39</td>\n",
              "      <td>NaN</td>\n",
              "      <td>NaN</td>\n",
              "      <td>NaN</td>\n",
              "      <td>NaN</td>\n",
              "      <td>NaN</td>\n",
              "      <td>NaN</td>\n",
              "      <td>NaN</td>\n",
              "      <td>NaN</td>\n",
              "      <td>NaN</td>\n",
              "      <td>NaN</td>\n",
              "      <td>NaN</td>\n",
              "      <td>NaN</td>\n",
              "      <td>NaN</td>\n",
              "      <td>NaN</td>\n",
              "      <td>NaN</td>\n",
              "      <td>NaN</td>\n",
              "      <td>NaN</td>\n",
              "      <td>NaN</td>\n",
              "      <td>NaN</td>\n",
              "      <td>NaN</td>\n",
              "      <td>US</td>\n",
              "      <td>week1</td>\n",
              "      <td>NaN</td>\n",
              "      <td>NaN</td>\n",
              "      <td>NaN</td>\n",
              "      <td>NaN</td>\n",
              "      <td>NaN</td>\n",
              "      <td>NaN</td>\n",
              "      <td>NaN</td>\n",
              "      <td>NaN</td>\n",
              "      <td>NaN</td>\n",
              "      <td>NaN</td>\n",
              "      <td>April 23 - May 5</td>\n",
              "      <td>2020.0</td>\n",
              "    </tr>\n",
              "    <tr>\n",
              "      <th>2</th>\n",
              "      <td>34859827.0</td>\n",
              "      <td>20438800.0</td>\n",
              "      <td>5672575.0</td>\n",
              "      <td>1309261.0</td>\n",
              "      <td>1023675.0</td>\n",
              "      <td>40 - 54</td>\n",
              "      <td>NaN</td>\n",
              "      <td>NaN</td>\n",
              "      <td>NaN</td>\n",
              "      <td>NaN</td>\n",
              "      <td>NaN</td>\n",
              "      <td>NaN</td>\n",
              "      <td>NaN</td>\n",
              "      <td>NaN</td>\n",
              "      <td>NaN</td>\n",
              "      <td>NaN</td>\n",
              "      <td>NaN</td>\n",
              "      <td>NaN</td>\n",
              "      <td>NaN</td>\n",
              "      <td>NaN</td>\n",
              "      <td>NaN</td>\n",
              "      <td>NaN</td>\n",
              "      <td>NaN</td>\n",
              "      <td>NaN</td>\n",
              "      <td>NaN</td>\n",
              "      <td>NaN</td>\n",
              "      <td>US</td>\n",
              "      <td>week1</td>\n",
              "      <td>NaN</td>\n",
              "      <td>NaN</td>\n",
              "      <td>NaN</td>\n",
              "      <td>NaN</td>\n",
              "      <td>NaN</td>\n",
              "      <td>NaN</td>\n",
              "      <td>NaN</td>\n",
              "      <td>NaN</td>\n",
              "      <td>NaN</td>\n",
              "      <td>NaN</td>\n",
              "      <td>April 23 - May 5</td>\n",
              "      <td>2020.0</td>\n",
              "    </tr>\n",
              "    <tr>\n",
              "      <th>3</th>\n",
              "      <td>26391862.0</td>\n",
              "      <td>13109868.0</td>\n",
              "      <td>2411653.0</td>\n",
              "      <td>852158.0</td>\n",
              "      <td>643784.0</td>\n",
              "      <td>55 - 64</td>\n",
              "      <td>NaN</td>\n",
              "      <td>NaN</td>\n",
              "      <td>NaN</td>\n",
              "      <td>NaN</td>\n",
              "      <td>NaN</td>\n",
              "      <td>NaN</td>\n",
              "      <td>NaN</td>\n",
              "      <td>NaN</td>\n",
              "      <td>NaN</td>\n",
              "      <td>NaN</td>\n",
              "      <td>NaN</td>\n",
              "      <td>NaN</td>\n",
              "      <td>NaN</td>\n",
              "      <td>NaN</td>\n",
              "      <td>NaN</td>\n",
              "      <td>NaN</td>\n",
              "      <td>NaN</td>\n",
              "      <td>NaN</td>\n",
              "      <td>NaN</td>\n",
              "      <td>NaN</td>\n",
              "      <td>US</td>\n",
              "      <td>week1</td>\n",
              "      <td>NaN</td>\n",
              "      <td>NaN</td>\n",
              "      <td>NaN</td>\n",
              "      <td>NaN</td>\n",
              "      <td>NaN</td>\n",
              "      <td>NaN</td>\n",
              "      <td>NaN</td>\n",
              "      <td>NaN</td>\n",
              "      <td>NaN</td>\n",
              "      <td>NaN</td>\n",
              "      <td>April 23 - May 5</td>\n",
              "      <td>2020.0</td>\n",
              "    </tr>\n",
              "    <tr>\n",
              "      <th>4</th>\n",
              "      <td>35893969.0</td>\n",
              "      <td>13304175.0</td>\n",
              "      <td>1242960.0</td>\n",
              "      <td>254667.0</td>\n",
              "      <td>912253.0</td>\n",
              "      <td>65 and above</td>\n",
              "      <td>NaN</td>\n",
              "      <td>NaN</td>\n",
              "      <td>NaN</td>\n",
              "      <td>NaN</td>\n",
              "      <td>NaN</td>\n",
              "      <td>NaN</td>\n",
              "      <td>NaN</td>\n",
              "      <td>NaN</td>\n",
              "      <td>NaN</td>\n",
              "      <td>NaN</td>\n",
              "      <td>NaN</td>\n",
              "      <td>NaN</td>\n",
              "      <td>NaN</td>\n",
              "      <td>NaN</td>\n",
              "      <td>NaN</td>\n",
              "      <td>NaN</td>\n",
              "      <td>NaN</td>\n",
              "      <td>NaN</td>\n",
              "      <td>NaN</td>\n",
              "      <td>NaN</td>\n",
              "      <td>US</td>\n",
              "      <td>week1</td>\n",
              "      <td>NaN</td>\n",
              "      <td>NaN</td>\n",
              "      <td>NaN</td>\n",
              "      <td>NaN</td>\n",
              "      <td>NaN</td>\n",
              "      <td>NaN</td>\n",
              "      <td>NaN</td>\n",
              "      <td>NaN</td>\n",
              "      <td>NaN</td>\n",
              "      <td>NaN</td>\n",
              "      <td>April 23 - May 5</td>\n",
              "      <td>2020.0</td>\n",
              "    </tr>\n",
              "  </tbody>\n",
              "</table>\n",
              "</div>\n",
              "      <button class=\"colab-df-convert\" onclick=\"convertToInteractive('df-8249c45b-b54a-46ee-93a4-945881725df1')\"\n",
              "              title=\"Convert this dataframe to an interactive table.\"\n",
              "              style=\"display:none;\">\n",
              "        \n",
              "  <svg xmlns=\"http://www.w3.org/2000/svg\" height=\"24px\"viewBox=\"0 0 24 24\"\n",
              "       width=\"24px\">\n",
              "    <path d=\"M0 0h24v24H0V0z\" fill=\"none\"/>\n",
              "    <path d=\"M18.56 5.44l.94 2.06.94-2.06 2.06-.94-2.06-.94-.94-2.06-.94 2.06-2.06.94zm-11 1L8.5 8.5l.94-2.06 2.06-.94-2.06-.94L8.5 2.5l-.94 2.06-2.06.94zm10 10l.94 2.06.94-2.06 2.06-.94-2.06-.94-.94-2.06-.94 2.06-2.06.94z\"/><path d=\"M17.41 7.96l-1.37-1.37c-.4-.4-.92-.59-1.43-.59-.52 0-1.04.2-1.43.59L10.3 9.45l-7.72 7.72c-.78.78-.78 2.05 0 2.83L4 21.41c.39.39.9.59 1.41.59.51 0 1.02-.2 1.41-.59l7.78-7.78 2.81-2.81c.8-.78.8-2.07 0-2.86zM5.41 20L4 18.59l7.72-7.72 1.47 1.35L5.41 20z\"/>\n",
              "  </svg>\n",
              "      </button>\n",
              "      \n",
              "  <style>\n",
              "    .colab-df-container {\n",
              "      display:flex;\n",
              "      flex-wrap:wrap;\n",
              "      gap: 12px;\n",
              "    }\n",
              "\n",
              "    .colab-df-convert {\n",
              "      background-color: #E8F0FE;\n",
              "      border: none;\n",
              "      border-radius: 50%;\n",
              "      cursor: pointer;\n",
              "      display: none;\n",
              "      fill: #1967D2;\n",
              "      height: 32px;\n",
              "      padding: 0 0 0 0;\n",
              "      width: 32px;\n",
              "    }\n",
              "\n",
              "    .colab-df-convert:hover {\n",
              "      background-color: #E2EBFA;\n",
              "      box-shadow: 0px 1px 2px rgba(60, 64, 67, 0.3), 0px 1px 3px 1px rgba(60, 64, 67, 0.15);\n",
              "      fill: #174EA6;\n",
              "    }\n",
              "\n",
              "    [theme=dark] .colab-df-convert {\n",
              "      background-color: #3B4455;\n",
              "      fill: #D2E3FC;\n",
              "    }\n",
              "\n",
              "    [theme=dark] .colab-df-convert:hover {\n",
              "      background-color: #434B5C;\n",
              "      box-shadow: 0px 1px 3px 1px rgba(0, 0, 0, 0.15);\n",
              "      filter: drop-shadow(0px 1px 2px rgba(0, 0, 0, 0.3));\n",
              "      fill: #FFFFFF;\n",
              "    }\n",
              "  </style>\n",
              "\n",
              "      <script>\n",
              "        const buttonEl =\n",
              "          document.querySelector('#df-8249c45b-b54a-46ee-93a4-945881725df1 button.colab-df-convert');\n",
              "        buttonEl.style.display =\n",
              "          google.colab.kernel.accessAllowed ? 'block' : 'none';\n",
              "\n",
              "        async function convertToInteractive(key) {\n",
              "          const element = document.querySelector('#df-8249c45b-b54a-46ee-93a4-945881725df1');\n",
              "          const dataTable =\n",
              "            await google.colab.kernel.invokeFunction('convertToInteractive',\n",
              "                                                     [key], {});\n",
              "          if (!dataTable) return;\n",
              "\n",
              "          const docLinkHtml = 'Like what you see? Visit the ' +\n",
              "            '<a target=\"_blank\" href=https://colab.research.google.com/notebooks/data_table.ipynb>data table notebook</a>'\n",
              "            + ' to learn more about interactive tables.';\n",
              "          element.innerHTML = '';\n",
              "          dataTable['output_type'] = 'display_data';\n",
              "          await google.colab.output.renderOutput(dataTable, element);\n",
              "          const docLink = document.createElement('div');\n",
              "          docLink.innerHTML = docLinkHtml;\n",
              "          element.appendChild(docLink);\n",
              "        }\n",
              "      </script>\n",
              "    </div>\n",
              "  </div>\n",
              "  "
            ],
            "text/plain": [
              "   Enough of the kinds of food wanted  ...    Year\n",
              "0                           7385094.0  ...  2020.0\n",
              "1                          38162462.0  ...  2020.0\n",
              "2                          34859827.0  ...  2020.0\n",
              "3                          26391862.0  ...  2020.0\n",
              "4                          35893969.0  ...  2020.0\n",
              "\n",
              "[5 rows x 40 columns]"
            ]
          },
          "metadata": {},
          "execution_count": 3
        }
      ]
    },
    {
      "cell_type": "markdown",
      "source": [
        "File Final_Pulse_Data.csv berisikan dataset Covid-19 of Food Insecurity Data\n",
        "\n",
        "Dataset ini melacak kerawanan pangan di berbagai demografi mulai dari 23/4/2020 hingga 23/8/2021. Dataset ini berisi berbagai macam fields seperti Race, Education, Sex, State, Income dll.\n",
        "\n",
        "Data ini berasal dari United States Census Bureau's Pulse Survey. Pulse Survey adalah survei yang sering diperbarui yang dirancang untuk mengumpulkan data tentang bagaimana kehidupan orang-orang terkena dampak virus corona. Secara khusus, dataset ini adalah versi pembersihan dari tabel \"Food Sufficiency for Households, in the Last 7 Days, by Select Characteristics\"."
      ],
      "metadata": {
        "id": "OMsEcKDOWCGF"
      }
    },
    {
      "cell_type": "code",
      "source": [
        "df.info()"
      ],
      "metadata": {
        "colab": {
          "base_uri": "https://localhost:8080/"
        },
        "id": "LWSIRFhVw_cc",
        "outputId": "31527242-6615-424a-d874-abbbd0f73d83"
      },
      "execution_count": null,
      "outputs": [
        {
          "output_type": "stream",
          "name": "stdout",
          "text": [
            "<class 'pandas.core.frame.DataFrame'>\n",
            "RangeIndex: 263824 entries, 0 to 263823\n",
            "Data columns (total 40 columns):\n",
            " #   Column                                        Non-Null Count   Dtype  \n",
            "---  ------                                        --------------   -----  \n",
            " 0   Enough of the kinds of food wanted            263824 non-null  float64\n",
            " 1   Enough Food, but not always the kinds wanted  263824 non-null  float64\n",
            " 2   Sometimes not enough to eat                   263824 non-null  float64\n",
            " 3   Often not enough to eat                       263824 non-null  float64\n",
            " 4   Did not report                                263824 non-null  float64\n",
            " 5   Age                                           10910 non-null   object \n",
            " 6   Sex_At_Birth                                  2890 non-null    object \n",
            " 7   Race                                          7225 non-null    object \n",
            " 8   Education                                     5780 non-null    object \n",
            " 9   Marital_Status                                7225 non-null    object \n",
            " 10  Children_Present                              2354 non-null    object \n",
            " 11  Unemployed_Last_4                             4335 non-null    object \n",
            " 12  Employed_Last_7                               4335 non-null    object \n",
            " 13  Reason_Not_Working                            29371 non-null   object \n",
            " 14  Receiving_Pay_No_Work                         5360 non-null    object \n",
            " 15  Income                                        13005 non-null   object \n",
            " 16  Health_Status                                 6432 non-null    object \n",
            " 17  Freq_Feel_Anxious                             8895 non-null    object \n",
            " 18  Freq_Feel_Control_Worry                       7220 non-null    object \n",
            " 19  Freq_Feel_Lil_Interest                        7220 non-null    object \n",
            " 20  Freq_Feel_Depressed                           7220 non-null    object \n",
            " 21  Covered_By_Insurance                          5538 non-null    object \n",
            " 22  Caught_Up_On_Mortgage                         6580 non-null    object \n",
            " 23  Conf_Pay_Next_Rent_or_Mortgage                8664 non-null    object \n",
            " 24  Free_Groceries                                4332 non-null    object \n",
            " 25  Provider_Of_Free_Groceries                    14473 non-null   object \n",
            " 26  Location                                      263823 non-null  object \n",
            " 27  Week                                          263823 non-null  object \n",
            " 28  Household_Size                                10115 non-null   object \n",
            " 29  Used_To_Meet_Needs                            9358 non-null    object \n",
            " 30  House_Receives_SNAP                           3126 non-null    object \n",
            " 31  Active_Duty                                   2238 non-null    object \n",
            " 32  Difficulty_Seeing                             1865 non-null    object \n",
            " 33  Difficulty_Hearing                            1862 non-null    object \n",
            " 34  Difficulty_Remembering                        1860 non-null    object \n",
            " 35  Difficulty_Walking_Climbing                   1860 non-null    object \n",
            " 36  Sexual_Orientation                            0 non-null       float64\n",
            " 37  LGBT                                          0 non-null       float64\n",
            " 38  week_name                                     263823 non-null  object \n",
            " 39  Year                                          263823 non-null  float64\n",
            "dtypes: float64(8), object(32)\n",
            "memory usage: 80.5+ MB\n"
          ]
        }
      ]
    },
    {
      "cell_type": "markdown",
      "source": [
        "Penjelasan setiapn kolom yang ada pada dataset Covid-19 of Food Insecurity Data:\n",
        "1. Enough of the kinds of food wanted: Jumlah respondens yang menjawab Status Keamanan Makanan mereka tercukupi dengan jenis Makanan yang diinginkan tersedia\n",
        "2. Enough Food, but not always the kinds wanted: Jumlah respondens yang menjawab Status Keamanan Makanan mereka tercukupi dengan jenis Makanan yang diinginkan tidak selalu tersedia\n",
        "3. Sometimes not enough to eat: Jumlah respondens yang menjawab Status Keamanan Makanan mereka terkadang tidak tercukupi untuk dikonsumsi\n",
        "4. Often not enough to eat: Jumlah respondens yang menjawab Status Keamanan Makanan mereka sering tidak tercukupi untuk dikonsumsi\n",
        "5. Did not report: Jumlah respondens yang tidak melaporkan Status Keamanan Makanan mereka\n",
        "6. Age: Umur respondens\n",
        "7. Sex_At_Birth: Jenis kelamin respondens\n",
        "8. Race: Ras respondens\n",
        "9. Education: Pendidikan respondens\n",
        "10. Marital_Status: Status pernikahan respondens\n",
        "11. Children_Present: Status anak respondens apakah ada atau tidak\n",
        "12. Unemployed_Last_4: Status apakah respondens tidak bekerja\n",
        "13. Employed_Last_4: Status apakah respondens bekerja\n",
        "14. Reason_Not_Working: Alasan respondens tidak bekerja\n",
        "15. Receiving_Pay_No_Work: Asal respondens yang tidak bekerja menerima uang\n",
        "16. Income: Pendapatan respondens\n",
        "17. Health_Status: Status kesehatan respondens\n",
        "18. Freq_Feel_Anxious: Status apakah respondens sering merasa cemas\n",
        "19. Freq_Feel_Control_Worry: Status apakah respondens sering merasa memiliki sedikit kendali.\n",
        "20. Freq_Feel_Lil_Interest: Status apakah respondens sering merasa kurang tertarik.\n",
        "21. Freq_Feel_Depressed: Status apakah respondens sering merasa tertekan.\n",
        "22. Covered_By_Insurance: Status apakah respondens ditanggung oleh asuransi.\n",
        "23. Caught_Up_On_Mortgage: Status apakah respondens terjebak pada hipotek atau sewa bulan lalu.\n",
        "24. Conf_Pay_Next_Rent_or_Mortgage: Status apakah respondens yakin bahwa mereka dapat membayar hipotek atau sewa bulan depan.\n",
        "25. Free_Groceries: Status apakah respondens menerima bantuan gratis.\n",
        "26. Provider_Of_Free_Groceries: Status dimana respondens mendapatkan bantuan gratis.\n",
        "27. Location: Lokasi respondens.\n",
        "28. Week: Minggu keberapa survei ini dilakukan.\n",
        "29. Household_Size: Ukuran rumah tangga respondens.\n",
        "30. Used_To_Meet_Needs: Metode yang digunakan respondens untuk memenuhi kebutuhan.\n",
        "31. House_Receives_SNAP: Status apakah rumah tangga respondens menerima manfaat SNAP.\n",
        "32. Active_Duty: Status apakah respondens bertugas aktif.\n",
        "33. Difficulty_Seeing: Status apakah respondens mengalami kesulitan melihat.\n",
        "34. Difficulty_Hearing: Status apakah respondens mengalami kesulitan mendengar.\n",
        "35. Difficulty_Remembering: Status apakah responden mengalami kesulitan mengingat..\n",
        "36. Difficulty_Walking_Climbing: Status apakah respondens mengalami kesulitan berjalan atau memanjat.\n",
        "37. Sexual_Orientation: Orientasi seksual respondens.\n",
        "38. LGBT: Status respondens LGBTQ.\n",
        "39. week_name: Tanggal selama survei dilakukan.\n",
        "40. Year: Tahun survei dilakukan."
      ],
      "metadata": {
        "id": "fdaV70KGWHBB"
      }
    },
    {
      "cell_type": "code",
      "source": [
        "df.isnull().sum()"
      ],
      "metadata": {
        "colab": {
          "base_uri": "https://localhost:8080/"
        },
        "id": "MG9eG9gIxAYd",
        "outputId": "824a0556-8d90-49ae-fed9-a491860e75e8"
      },
      "execution_count": null,
      "outputs": [
        {
          "output_type": "execute_result",
          "data": {
            "text/plain": [
              "Enough of the kinds of food wanted                   0\n",
              "Enough Food, but not always the kinds wanted         0\n",
              "Sometimes not enough to eat                          0\n",
              "Often not enough to eat                              0\n",
              "Did not report                                       0\n",
              "Age                                             252914\n",
              "Sex_At_Birth                                    260934\n",
              "Race                                            256599\n",
              "Education                                       258044\n",
              "Marital_Status                                  256599\n",
              "Children_Present                                261470\n",
              "Unemployed_Last_4                               259489\n",
              "Employed_Last_7                                 259489\n",
              "Reason_Not_Working                              234453\n",
              "Receiving_Pay_No_Work                           258464\n",
              "Income                                          250819\n",
              "Health_Status                                   257392\n",
              "Freq_Feel_Anxious                               254929\n",
              "Freq_Feel_Control_Worry                         256604\n",
              "Freq_Feel_Lil_Interest                          256604\n",
              "Freq_Feel_Depressed                             256604\n",
              "Covered_By_Insurance                            258286\n",
              "Caught_Up_On_Mortgage                           257244\n",
              "Conf_Pay_Next_Rent_or_Mortgage                  255160\n",
              "Free_Groceries                                  259492\n",
              "Provider_Of_Free_Groceries                      249351\n",
              "Location                                             1\n",
              "Week                                                 1\n",
              "Household_Size                                  253709\n",
              "Used_To_Meet_Needs                              254466\n",
              "House_Receives_SNAP                             260698\n",
              "Active_Duty                                     261586\n",
              "Difficulty_Seeing                               261959\n",
              "Difficulty_Hearing                              261962\n",
              "Difficulty_Remembering                          261964\n",
              "Difficulty_Walking_Climbing                     261964\n",
              "Sexual_Orientation                              263824\n",
              "LGBT                                            263824\n",
              "week_name                                            1\n",
              "Year                                                 1\n",
              "dtype: int64"
            ]
          },
          "metadata": {},
          "execution_count": 5
        }
      ]
    },
    {
      "cell_type": "markdown",
      "source": [
        "Code di atas digunakan untuk menampilkan berapa banyak data yang null pada dataset."
      ],
      "metadata": {
        "id": "97bl-LxcxdUc"
      }
    },
    {
      "cell_type": "markdown",
      "source": [
        "##Feature Selection For ARM"
      ],
      "metadata": {
        "id": "xVRy-fkFXo7a"
      }
    },
    {
      "cell_type": "code",
      "source": [
        "cleanColumn =['Enough of the kinds of food wanted',\n",
        "'Enough Food, but not always the kinds wanted',\n",
        "'Sometimes not enough to eat',\n",
        "'Often not enough to eat',\n",
        "'Did not report',\n",
        "'Location',\n",
        "'Week',\n",
        "'Year',\n",
        "'week_name',\n",
        "'Year']"
      ],
      "metadata": {
        "id": "mF_ZI2jMxBnc"
      },
      "execution_count": null,
      "outputs": []
    },
    {
      "cell_type": "markdown",
      "source": [
        "Feature selection ini dilakukan pada beberapa kolom dengan tujuan untuk memilih beberapa kolom yang akan digunakan pada proses ARM. Kolom - kolom ini dipilih berdasarkan data dengan nilai null paling sedikit agar proses ARM dilakukan dengan baik."
      ],
      "metadata": {
        "id": "LBUv4ZhfYReh"
      }
    },
    {
      "cell_type": "code",
      "source": [
        "clean_data = df[cleanColumn].astype('str')"
      ],
      "metadata": {
        "id": "RkNtqEUDxeMc"
      },
      "execution_count": null,
      "outputs": []
    },
    {
      "cell_type": "markdown",
      "source": [
        "Setelah melakukan feature selection, data data tersebut dirubah dalam bentuk string, karena proses ARM sendiri melakukan proses query sehingga data typenya harus dalam bentuk string."
      ],
      "metadata": {
        "id": "0EBzMx9IZKmD"
      }
    },
    {
      "cell_type": "code",
      "source": [
        "clean_data = clean_data.rename(columns = {'Enough of the kinds of food wanted' : 'Enough_of_the_kinds_of_food_wanted',\n",
        "'Enough Food, but not always the kinds wanted' : 'Enough_Food,_but_not_always_the_kinds_wanted',\n",
        "'Sometimes not enough to eat' : 'Sometimes_not_enough_to_eat',\n",
        "'Often not enough to eat' : 'Often_not_enough_to_eat',\n",
        "'Did not report' : 'Did_not_report'\n",
        "})"
      ],
      "metadata": {
        "id": "NXWT291VyY8g"
      },
      "execution_count": null,
      "outputs": []
    },
    {
      "cell_type": "markdown",
      "source": [
        "Code di atas digunakan untuk mengubah nama kolom pada dataset dengan tujuan agar kolom dapat di baca saat melakukan proses ARM."
      ],
      "metadata": {
        "id": "3_OLWp1jxkqt"
      }
    },
    {
      "cell_type": "code",
      "source": [
        "clean_data = clean_data.dropna()"
      ],
      "metadata": {
        "id": "OusrYkR6xow0"
      },
      "execution_count": null,
      "outputs": []
    },
    {
      "cell_type": "markdown",
      "source": [
        "Code di atas digunakan untuk menghapus baris null pada dataset."
      ],
      "metadata": {
        "id": "v04gHyiwx1d8"
      }
    },
    {
      "cell_type": "code",
      "source": [
        "clean_data.info()"
      ],
      "metadata": {
        "colab": {
          "base_uri": "https://localhost:8080/"
        },
        "id": "4JfhhAO6xquE",
        "outputId": "de4d880f-4ca0-4806-cc03-e69293213c8f"
      },
      "execution_count": null,
      "outputs": [
        {
          "output_type": "stream",
          "name": "stdout",
          "text": [
            "<class 'pandas.core.frame.DataFrame'>\n",
            "Int64Index: 263824 entries, 0 to 263823\n",
            "Data columns (total 10 columns):\n",
            " #   Column                                        Non-Null Count   Dtype \n",
            "---  ------                                        --------------   ----- \n",
            " 0   Enough_of_the_kinds_of_food_wanted            263824 non-null  object\n",
            " 1   Enough_Food,_but_not_always_the_kinds_wanted  263824 non-null  object\n",
            " 2   Sometimes_not_enough_to_eat                   263824 non-null  object\n",
            " 3   Often_not_enough_to_eat                       263824 non-null  object\n",
            " 4   Did_not_report                                263824 non-null  object\n",
            " 5   Location                                      263824 non-null  object\n",
            " 6   Week                                          263824 non-null  object\n",
            " 7   Year                                          263824 non-null  object\n",
            " 8   week_name                                     263824 non-null  object\n",
            " 9   Year                                          263824 non-null  object\n",
            "dtypes: object(10)\n",
            "memory usage: 22.1+ MB\n"
          ]
        }
      ]
    },
    {
      "cell_type": "markdown",
      "source": [
        "Setelah data null dihapus code diatas bertujuan untuk memastikan kembali apakah data masih ada yang null atau tidak."
      ],
      "metadata": {
        "id": "-6kjslqqx9Ia"
      }
    },
    {
      "cell_type": "code",
      "source": [
        "from sqlalchemy import create_engine\n",
        "from pandas.io import sql\n",
        "engine = create_engine('sqlite:///:memory:')\n",
        "clean_data.to_sql('Final_Pulse_Data',engine)"
      ],
      "metadata": {
        "id": "75XZKjx2voQW"
      },
      "execution_count": null,
      "outputs": []
    },
    {
      "cell_type": "markdown",
      "source": [
        "Code di atas digunakan untuk mengubah dataframe yang telah dilakukan feature selection menjadi SQL, tujuan dari perubahan ini tentunya agar dapat melakukan query pada data."
      ],
      "metadata": {
        "id": "GE62FKXRZk-3"
      }
    },
    {
      "cell_type": "markdown",
      "source": [
        "##ARM WITH FP GROWTH ALGORITHM"
      ],
      "metadata": {
        "id": "_OSeQEU56Lxc"
      }
    },
    {
      "cell_type": "code",
      "source": [
        "def ARMformat(a,b,tb):\n",
        "    collect = []\n",
        "    for x in clean_data[a].unique():\n",
        "        q = \"SELECT \"+b+\" FROM \"+tb+\" WHERE \"+a+\"='\"+x+\"'\"\n",
        "        res = pd.read_sql_query(q,engine)\n",
        "        res=res[b].unique()\n",
        "        resclean = []\n",
        "        for i in res:\n",
        "            if i!=None:\n",
        "                resclean.append(i)\n",
        "        resmin = resclean[0:10]\n",
        "        collect.append(list(resmin))\n",
        "    return collect"
      ],
      "metadata": {
        "id": "R0Jm9DUFxsYM"
      },
      "execution_count": null,
      "outputs": []
    },
    {
      "cell_type": "markdown",
      "source": [
        "Code di atas merupakan kode untuk melakukan query pada ARM, dapat dilihat bahwa query dilakukan dengan select nama tabel 1 from data where nama tabel 2. Hasil dari query tersebut disimpan ke dalam suatu variabel."
      ],
      "metadata": {
        "id": "Vnu6D9piasf8"
      }
    },
    {
      "cell_type": "code",
      "source": [
        "data = ARMformat('Location','Often_not_enough_to_eat','Final_Pulse_Data')\n",
        "len(data)"
      ],
      "metadata": {
        "colab": {
          "base_uri": "https://localhost:8080/"
        },
        "id": "T7q_KqXXyIXs",
        "outputId": "3ec3e981-c641-4533-cd07-9fd96acadd8c"
      },
      "execution_count": null,
      "outputs": [
        {
          "output_type": "execute_result",
          "data": {
            "text/plain": [
              "68"
            ]
          },
          "metadata": {},
          "execution_count": 13
        }
      ]
    },
    {
      "cell_type": "markdown",
      "source": [
        "Code di atas merupakan rule pada ARM. rule ini bertujuan untuk menemukan jumlah respondens yang menjawab Status Keamanan Makanan mereka sering tidak tercukupi untuk dikonsumsi berdasarkan lokasi sehingga nanti yang dihasilkan pada lokasi tersebut dapat diketahui berapa banyak respondens yang menjawab survey."
      ],
      "metadata": {
        "id": "I1egTbIFc-uR"
      }
    },
    {
      "cell_type": "code",
      "source": [
        "i = 0\n",
        "pre = clean_data['Location'].unique()\n",
        "for dt in data:\n",
        "    print(pre[i],dt,\"\\n\")\n",
        "    i+=1"
      ],
      "metadata": {
        "colab": {
          "base_uri": "https://localhost:8080/"
        },
        "id": "ABc8pvnB0Nps",
        "outputId": "1af8b204-7a0f-4415-ef37-bee79e0e32c2"
      },
      "execution_count": null,
      "outputs": [
        {
          "output_type": "stream",
          "name": "stdout",
          "text": [
            "US ['290127.0', '1971396.0', '1309261.0', '852158.0', '254667.0', '2118657.0', '2558951.0', '1430818.0', '1662865.0', '1087808.0'] \n",
            "\n",
            "AL ['0.0', '46441.0', '36167.0', '2111.0', '33353.0', '51366.0', '29999.0', '37720.0', '2094.0', '14906.0'] \n",
            "\n",
            "AK ['2034.0', '4824.0', '4929.0', '2878.0', '313.0', '10569.0', '4409.0', '3848.0', '4308.0', '0.0'] \n",
            "\n",
            "AZ ['3632.0', '23787.0', '10426.0', '17853.0', '49208.0', '41423.0', '63483.0', '53580.0', '28982.0', '12252.0'] \n",
            "\n",
            "AR ['0.0', '12337.0', '3817.0', '13938.0', '712.0', '19271.0', '11535.0', '21233.0', '3135.0', '6438.0'] \n",
            "\n",
            "CA ['0.0', '156375.0', '225821.0', '44334.0', '40064.0', '228267.0', '238329.0', '199315.0', '46925.0', '160970.0'] \n",
            "\n",
            "CO ['0.0', '79466.0', '2472.0', '4099.0', '20525.0', '65512.0', '44805.0', '15905.0', '19486.0', '5841.0'] \n",
            "\n",
            "CT ['5119.0', '9532.0', '15396.0', '1939.0', '0.0', '16931.0', '15055.0', '14987.0', '12233.0', '4766.0'] \n",
            "\n",
            "DE ['12001.0', '2798.0', '4115.0', '11915.0', '775.0', '13205.0', '18399.0', '756.0', '25600.0', '4972.0'] \n",
            "\n",
            "DC ['610.0', '4884.0', '3063.0', '2185.0', '596.0', '2926.0', '8413.0', '603.0', '909.0', '9826.0'] \n",
            "\n",
            "FL ['99792.0', '162742.0', '77199.0', '9565.0', '7105.0', '212465.0', '143938.0', '173793.0', '61056.0', '98878.0'] \n",
            "\n",
            "GA ['27301.0', '65737.0', '99500.0', '24135.0', '6942.0', '150281.0', '73335.0', '26026.0', '92138.0', '98458.0'] \n",
            "\n",
            "HI ['0.0', '5401.0', '1045.0', '7812.0', '8067.0', '6191.0', '5948.0', '1962.0', '895.0', '5452.0'] \n",
            "\n",
            "ID ['1700.0', '10942.0', '1247.0', '835.0', '2999.0', '7709.0', '10015.0', '0.0', '17724.0', '4469.0'] \n",
            "\n",
            "IL ['0.0', '66055.0', '24727.0', '15156.0', '42081.0', '63857.0', '22414.0', '47635.0', '35889.0', '22256.0'] \n",
            "\n",
            "IN ['0.0', '40482.0', '24526.0', '37424.0', '30378.0', '72054.0', '5192.0', '76677.0', '20564.0', '14364.0'] \n",
            "\n",
            "IA ['4880.0', '19823.0', '2957.0', '4067.0', '0.0', '11466.0', '20262.0', '24719.0', '1403.0', '5606.0'] \n",
            "\n",
            "KS ['0.0', '3657.0', '6660.0', '4881.0', '2964.0', '12233.0', '10660.0', '2940.0', '1597.0', '3882.0'] \n",
            "\n",
            "KY ['18506.0', '29045.0', '50903.0', '2379.0', '0.0', '79459.0', '21373.0', '9651.0', '43409.0', '40116.0'] \n",
            "\n",
            "LA ['9157.0', '28266.0', '18123.0', '58750.0', '0.0', '71459.0', '42837.0', '12816.0', '47925.0', '28402.0'] \n",
            "\n",
            "ME ['0.0', '4287.0', '2105.0', '934.0', '2742.0', '4993.0', '5074.0', '9010.0', '1057.0', '4002.0'] \n",
            "\n",
            "MD ['137.0', '35686.0', '33916.0', '29562.0', '1688.0', '63969.0', '37020.0', '15850.0', '31085.0', '52886.0'] \n",
            "\n",
            "MA ['0.0', '75361.0', '76.0', '520.0', '65377.0', '10580.0', '5447.0', '10558.0', '439.0', '59514.0'] \n",
            "\n",
            "MI ['7362.0', '57608.0', '9716.0', '32075.0', '3479.0', '45778.0', '64462.0', '5364.0', '47368.0', '54759.0'] \n",
            "\n",
            "MN ['9227.0', '27418.0', '28437.0', '665.0', '2440.0', '29326.0', '38860.0', '2688.0', '49257.0', '6763.0'] \n",
            "\n",
            "MS ['0.0', '19414.0', '25660.0', '8698.0', '823.0', '30549.0', '24046.0', '14516.0', '32951.0', '7128.0'] \n",
            "\n",
            "MO ['4301.0', '24089.0', '50073.0', '3386.0', '4744.0', '5844.0', '80748.0', '0.0', '38880.0', '45235.0'] \n",
            "\n",
            "MT ['3598.0', '10982.0', '2924.0', '248.0', '1004.0', '9476.0', '9281.0', '0.0', '18757.0', '13106.0'] \n",
            "\n",
            "NE ['2740.0', '2453.0', '2236.0', '1097.0', '0.0', '495.0', '8031.0', '8026.0', '500.0', '6033.0'] \n",
            "\n",
            "NV ['0.0', '16232.0', '22425.0', '976.0', '11491.0', '28142.0', '10463.0', '13956.0', '3564.0', '11463.0'] \n",
            "\n",
            "NH ['0.0', '4329.0', '1098.0', '1739.0', '5485.0', '7614.0', '5037.0', '1486.0', '7705.0', '3460.0'] \n",
            "\n",
            "NJ ['0.0', '52397.0', '9613.0', '15815.0', '25137.0', '55764.0', '47197.0', '48082.0', '32338.0', '9280.0'] \n",
            "\n",
            "NM ['2452.0', '8252.0', '1025.0', '0.0', '583.0', '7107.0', '5205.0', '7992.0', '3356.0', '964.0'] \n",
            "\n",
            "NY ['0.0', '84960.0', '126806.0', '39631.0', '79566.0', '19529.0', '311435.0', '183366.0', '42834.0', '11862.0'] \n",
            "\n",
            "NC ['12164.0', '56283.0', '14746.0', '2641.0', '0.0', '16679.0', '69154.0', '10900.0', '52842.0', '22091.0'] \n",
            "\n",
            "ND ['0.0', '1626.0', '1800.0', '1938.0', '3738.0', '1126.0', '3592.0', '646.0', '2851.0', '2244.0'] \n",
            "\n",
            "OH ['14827.0', '116522.0', '57672.0', '57877.0', '0.0', '124114.0', '122785.0', '9964.0', '129549.0', '94512.0'] \n",
            "\n",
            "OK ['14304.0', '9410.0', '24403.0', '0.0', '26762.0', '21355.0', '29609.0', '4087.0', '14421.0', '19761.0'] \n",
            "\n",
            "OR ['5806.0', '8221.0', '21932.0', '16164.0', '0.0', '25106.0', '27017.0', '15902.0', '22291.0', '3887.0'] \n",
            "\n",
            "PA ['4361.0', '191487.0', '48293.0', '29329.0', '1274.0', '186315.0', '88429.0', '109387.0', '126737.0', '38620.0'] \n",
            "\n",
            "RI ['1384.0', '3952.0', '9049.0', '290.0', '180.0', '8830.0', '6026.0', '3498.0', '7623.0', '0.0'] \n",
            "\n",
            "SC ['9851.0', '26103.0', '15326.0', '17399.0', '0.0', '12038.0', '56640.0', '12568.0', '48302.0', '4951.0'] \n",
            "\n",
            "SD ['1292.0', '2914.0', '1356.0', '3266.0', '811.0', '0.0', '9639.0', '2725.0', '2896.0', '4017.0'] \n",
            "\n",
            "TN ['0.0', '29494.0', '10384.0', '14626.0', '2957.0', '22062.0', '35398.0', '40923.0', '14756.0', '1780.0'] \n",
            "\n",
            "TX ['3625.0', '86839.0', '71937.0', '281986.0', '1881.0', '116999.0', '329269.0', '277678.0', '105766.0', '59931.0'] \n",
            "\n",
            "UT ['0.0', '12366.0', '2976.0', '2688.0', '1369.0', '8590.0', '10808.0', '1038.0', '9771.0', '14254.0'] \n",
            "\n",
            "VT ['1345.0', '1043.0', '1671.0', '167.0', '0.0', '838.0', '3388.0', '4226.0', '1055.0', '2464.0'] \n",
            "\n",
            "VA ['6027.0', '80553.0', '61298.0', '6980.0', '0.0', '54457.0', '100401.0', '50358.0', '57559.0', '43886.0'] \n",
            "\n",
            "WA ['591.0', '47828.0', '2759.0', '0.0', '7734.0', '36682.0', '22230.0', '22201.0', '17779.0', '12162.0'] \n",
            "\n",
            "WV ['0.0', '4602.0', '2725.0', '867.0', '558.0', '8752.0', '858.0', '6412.0', '1482.0', '925.0'] \n",
            "\n",
            "WI ['0.0', '94526.0', '30588.0', '15517.0', '113864.0', '26768.0', '58680.0', '54298.0', '27653.0', '19590.0'] \n",
            "\n",
            "WY ['0.0', '1565.0', '1140.0', '319.0', '1469.0', '1555.0', '2706.0', '2459.0', '565.0', '263.0'] \n",
            "\n",
            "Boston_Metro_Area ['0.0', '39483.0', '375.0', '2929.0', '37355.0', '5433.0', '5876.0', '439.0', '36473.0', '2409.0'] \n",
            "\n",
            "Atlanta_Metro_Area ['27301.0', '10700.0', '58281.0', '11725.0', '6942.0', '87006.0', '27944.0', '3243.0', '31337.0', '73375.0'] \n",
            "\n",
            "Los.Angeles_Metro_Area ['0.0', '67642.0', '85483.0', '15017.0', '36228.0', '59551.0', '144817.0', '108496.0', '19589.0', '56408.0'] \n",
            "\n",
            "Phoenix_Metro_Area ['3632.0', '18625.0', '9212.0', '6837.0', '10917.0', '39184.0', '10039.0', '14970.0', '13244.0', '9222.0'] \n",
            "\n",
            "New.York_Metro_Area ['0.0', '86790.0', '120667.0', '53882.0', '96467.0', '48718.0', '309088.0', '216659.0', '28707.0', '15326.0'] \n",
            "\n",
            "San.Francisco_Metro_Area ['0.0', '7316.0', '12553.0', '3826.0', '2483.0', '5331.0', '20848.0', '8148.0', '12700.0', '2848.0'] \n",
            "\n",
            "Chicago_Metro_Area ['0.0', '45035.0', '48681.0', '15156.0', '59492.0', '49379.0', '22414.0', '62198.0', '24259.0', '22256.0'] \n",
            "\n",
            "Dallas_Metro_Area ['0.0', '33888.0', '32333.0', '226800.0', '44766.0', '248255.0', '238990.0', '25335.0', '28697.0', '221601.0'] \n",
            "\n",
            "Riverside_Metro_Area ['0.0', '40216.0', '11838.0', '23756.0', '1354.0', '38134.0', '39029.0', '36210.0', '11468.0', '7822.0'] \n",
            "\n",
            "Detroit_Metro_Area ['0.0', '32496.0', '9716.0', '11108.0', '2749.0', '20666.0', '35402.0', '4634.0', '15837.0', '32848.0'] \n",
            "\n",
            "Houston_Metro_Area ['3625.0', '31221.0', '24338.0', '4011.0', '1881.0', '15867.0', '49209.0', '11141.0', '19808.0', '31234.0'] \n",
            "\n",
            "Washington.DC_Metro_Area ['610.0', '52985.0', '26678.0', '27567.0', '596.0', '69463.0', '38975.0', '44425.0', '31850.0', '30996.0'] \n",
            "\n",
            "Philadelphia_Metro_Area ['16362.0', '17579.0', '49562.0', '12955.0', '9511.0', '65469.0', '40501.0', '8710.0', '55691.0', '41293.0'] \n",
            "\n",
            "Seattle_Metro_Area ['591.0', '28359.0', '659.0', '0.0', '3434.0', '24520.0', '8523.0', '20100.0', '6172.0', '6771.0'] \n",
            "\n",
            "Miami_Metro_Area ['8722.0', '49062.0', '17324.0', '8442.0', '0.0', '18870.0', '64681.0', '4066.0', '5673.0', '54184.0'] \n",
            "\n",
            "nan ['0.0'] \n",
            "\n"
          ]
        }
      ]
    },
    {
      "cell_type": "markdown",
      "source": [
        "Code di atas akan menampilkan data setelah dilakukan query, akan tetapi data yang dihasilkan hanya data unique saja untuk meminimalisir data yang sama ditampilkan kembali."
      ],
      "metadata": {
        "id": "ylCZaFkFd3Dv"
      }
    },
    {
      "cell_type": "code",
      "source": [
        "!pip install pyfpgrowth"
      ],
      "metadata": {
        "colab": {
          "base_uri": "https://localhost:8080/"
        },
        "id": "gdSVZGWO1cFt",
        "outputId": "cc15d194-d5d3-454d-c00b-a75a5095c58b"
      },
      "execution_count": null,
      "outputs": [
        {
          "output_type": "stream",
          "name": "stdout",
          "text": [
            "Requirement already satisfied: pyfpgrowth in /usr/local/lib/python3.7/dist-packages (1.0)\n"
          ]
        }
      ]
    },
    {
      "cell_type": "code",
      "source": [
        "import pyfpgrowth"
      ],
      "metadata": {
        "id": "yvpY5byE4l92"
      },
      "execution_count": null,
      "outputs": []
    },
    {
      "cell_type": "code",
      "source": [
        "patterns = pyfpgrowth.find_frequent_patterns(data, 2)\n",
        "for p,d in patterns.items():\n",
        "    print(p,\":\",d)"
      ],
      "metadata": {
        "colab": {
          "base_uri": "https://localhost:8080/"
        },
        "id": "Ucxj9MU05KK5",
        "outputId": "a486814b-c0a3-44e4-c351-b573c440dc80"
      },
      "execution_count": null,
      "outputs": [
        {
          "output_type": "stream",
          "name": "stdout",
          "text": [
            "('3632.0',) : 2\n",
            "('12233.0',) : 2\n",
            "('0.0', '12233.0') : 2\n",
            "('610.0',) : 2\n",
            "('596.0',) : 2\n",
            "('596.0', '610.0') : 2\n",
            "('27301.0',) : 2\n",
            "('6942.0',) : 2\n",
            "('27301.0', '6942.0') : 2\n",
            "('15156.0',) : 2\n",
            "('0.0', '15156.0') : 2\n",
            "('22414.0',) : 2\n",
            "('15156.0', '22414.0') : 2\n",
            "('0.0', '22414.0') : 2\n",
            "('0.0', '15156.0', '22414.0') : 2\n",
            "('22256.0',) : 2\n",
            "('22256.0', '22414.0') : 2\n",
            "('15156.0', '22256.0') : 2\n",
            "('0.0', '22256.0') : 2\n",
            "('15156.0', '22256.0', '22414.0') : 2\n",
            "('0.0', '22256.0', '22414.0') : 2\n",
            "('0.0', '15156.0', '22256.0') : 2\n",
            "('0.0', '15156.0', '22256.0', '22414.0') : 2\n",
            "('2957.0',) : 2\n",
            "('0.0', '2957.0') : 2\n",
            "('439.0',) : 2\n",
            "('0.0', '439.0') : 2\n",
            "('9716.0',) : 2\n",
            "('2688.0',) : 2\n",
            "('15326.0',) : 2\n",
            "('0.0', '15326.0') : 2\n",
            "('2725.0',) : 2\n",
            "('0.0', '2725.0') : 2\n",
            "('3625.0',) : 2\n",
            "('1881.0',) : 2\n",
            "('1881.0', '3625.0') : 2\n",
            "('591.0',) : 2\n",
            "('0.0', '591.0') : 2\n",
            "('0.0',) : 52\n"
          ]
        }
      ]
    },
    {
      "cell_type": "markdown",
      "source": [
        "Code di atas digunakan untuk menemukan frequent pattern dengan library pyfpgrowth pada data setelah dilakukan format ARM."
      ],
      "metadata": {
        "id": "Io0M1YFIq4vT"
      }
    },
    {
      "cell_type": "code",
      "source": [
        "rules = pyfpgrowth.generate_association_rules(patterns, 1.0)\n",
        "for p,d in rules.items():\n",
        "    print(p,\"=>\",d)"
      ],
      "metadata": {
        "colab": {
          "base_uri": "https://localhost:8080/"
        },
        "id": "h611GO9b5RAZ",
        "outputId": "e4389d25-b26a-4a95-f774-14f81ca76e15"
      },
      "execution_count": null,
      "outputs": [
        {
          "output_type": "stream",
          "name": "stdout",
          "text": [
            "('12233.0',) => (('0.0',), 1.0)\n",
            "('596.0',) => (('610.0',), 1.0)\n",
            "('610.0',) => (('596.0',), 1.0)\n",
            "('27301.0',) => (('6942.0',), 1.0)\n",
            "('6942.0',) => (('27301.0',), 1.0)\n",
            "('15156.0',) => (('0.0', '22256.0', '22414.0'), 1.0)\n",
            "('22414.0',) => (('0.0', '15156.0', '22256.0'), 1.0)\n",
            "('0.0', '15156.0') => (('22256.0', '22414.0'), 1.0)\n",
            "('0.0', '22414.0') => (('15156.0', '22256.0'), 1.0)\n",
            "('15156.0', '22414.0') => (('0.0', '22256.0'), 1.0)\n",
            "('22256.0',) => (('0.0', '15156.0', '22414.0'), 1.0)\n",
            "('15156.0', '22256.0') => (('0.0', '22414.0'), 1.0)\n",
            "('22256.0', '22414.0') => (('0.0', '15156.0'), 1.0)\n",
            "('0.0', '22256.0') => (('15156.0', '22414.0'), 1.0)\n",
            "('0.0', '15156.0', '22256.0') => (('22414.0',), 1.0)\n",
            "('0.0', '15156.0', '22414.0') => (('22256.0',), 1.0)\n",
            "('0.0', '22256.0', '22414.0') => (('15156.0',), 1.0)\n",
            "('15156.0', '22256.0', '22414.0') => (('0.0',), 1.0)\n",
            "('2957.0',) => (('0.0',), 1.0)\n",
            "('439.0',) => (('0.0',), 1.0)\n",
            "('15326.0',) => (('0.0',), 1.0)\n",
            "('2725.0',) => (('0.0',), 1.0)\n",
            "('1881.0',) => (('3625.0',), 1.0)\n",
            "('3625.0',) => (('1881.0',), 1.0)\n",
            "('591.0',) => (('0.0',), 1.0)\n"
          ]
        }
      ]
    },
    {
      "cell_type": "markdown",
      "source": [
        "Code di atas digunakan untuk menemukan pattern yang terhubung dengan probabilitas minimum lainnya."
      ],
      "metadata": {
        "id": "aZw1tB_IrZ-k"
      }
    },
    {
      "cell_type": "markdown",
      "source": [
        "##Skyline Query With Brute Force Algotihm"
      ],
      "metadata": {
        "id": "Y4NxqMoOBWui"
      }
    },
    {
      "cell_type": "code",
      "source": [
        "cleanSkyline_data =['Often not enough to eat',\n",
        "              'Health_Status',\n",
        "              'Location']"
      ],
      "metadata": {
        "id": "0ESnhDmxKtN9"
      },
      "execution_count": null,
      "outputs": []
    },
    {
      "cell_type": "markdown",
      "source": [
        "Feature selection ini dilakukan pada beberapa kolom dengan tujuan untuk memilih beberapa kolom yang akan digunakan pada proses Skyline Query. Kolom - kolom ini dipilih berdasarkan beberapa ketentuan. Kolom Often not enough to eat merupakan kolom yang diminimalkan, Kolom Health status merupakan kolom yang dimaksimalkan, dan kolom location merupakan kolom yang tidak dianggap terlalu penting."
      ],
      "metadata": {
        "id": "ehJ6Uw3-sDuD"
      }
    },
    {
      "cell_type": "code",
      "source": [
        "skyline_data = df[cleanSkyline_data]\n",
        "skyline_data = skyline_data.dropna()"
      ],
      "metadata": {
        "id": "ecWoVJ0_KzX1"
      },
      "execution_count": null,
      "outputs": []
    },
    {
      "cell_type": "markdown",
      "source": [
        "Code di atas digunakan untuk menghapus baris atau kolom yang mengandung missing values. Semua kolom yang memiliki nilai NaN dihapus"
      ],
      "metadata": {
        "id": "5DcHRPYfvUkK"
      }
    },
    {
      "cell_type": "code",
      "source": [
        "skyline_data = skyline_data.rename(columns={'Often not enough to eat':'Often_not_enough_to_eat'})"
      ],
      "metadata": {
        "id": "-59ChvUZLIJ9"
      },
      "execution_count": null,
      "outputs": []
    },
    {
      "cell_type": "markdown",
      "source": [
        "Code di atas digunanakan untuk mengganti nama kolom dengan tujuan untuk mempermudah dalam melakukan query."
      ],
      "metadata": {
        "id": "P6QOg5J4vbe5"
      }
    },
    {
      "cell_type": "code",
      "source": [
        "health_status_dict = {'Did not report' : 0,\n",
        "                      'Poor' : 1,\n",
        "                      'Fair' : 2,\n",
        "                      'Good' : 3,\n",
        "                      'Very good' : 4,\n",
        "                      'Excellent' : 5}\n",
        "skyline_data['Health_Status'] = skyline_data['Health_Status'].map(health_status_dict)"
      ],
      "metadata": {
        "id": "YqmvZuFOLKe8"
      },
      "execution_count": null,
      "outputs": []
    },
    {
      "cell_type": "markdown",
      "source": [
        "Code di atas digunakan untuk melakukan encoding label dari health status untuk mempermudah dalam melakukan plotting."
      ],
      "metadata": {
        "id": "e8G7w1AMvyBt"
      }
    },
    {
      "cell_type": "code",
      "source": [
        "plot = skyline_data.plot.scatter(x = 'Health_Status', y = 'Often_not_enough_to_eat')\n",
        "plot.set_title('Effect of Limited Food during a pandemic on Health Status')"
      ],
      "metadata": {
        "colab": {
          "base_uri": "https://localhost:8080/",
          "height": 313
        },
        "id": "ZksLuqOvLPSj",
        "outputId": "2c1709b8-b1aa-4b63-9aaf-9a5cc73360d2"
      },
      "execution_count": null,
      "outputs": [
        {
          "output_type": "execute_result",
          "data": {
            "text/plain": [
              "Text(0.5, 1.0, 'Effect of Limited Food during a pandemic on Health Status')"
            ]
          },
          "metadata": {},
          "execution_count": 23
        },
        {
          "output_type": "display_data",
          "data": {
            "image/png": "[encoded data removed]",
            "text/plain": [
              "<Figure size 432x288 with 1 Axes>"
            ]
          },
          "metadata": {
            "needs_background": "light"
          }
        }
      ]
    },
    {
      "cell_type": "markdown",
      "source": [
        "Code di atas digunakan untuk melakukan plotting data yang bertujuan untuk melihat distribusi data."
      ],
      "metadata": {
        "id": "GkkDWmWXwgkx"
      }
    },
    {
      "cell_type": "code",
      "source": [
        "def a_dominates_b(a, b, to_min, to_max):\n",
        "\n",
        "    n_better = 0\n",
        "\n",
        "    for f in to_min:\n",
        "        if a[f] > b[f]:\n",
        "            return False\n",
        "        n_better += a[f] < b[f]\n",
        "\n",
        "    for f in to_max:\n",
        "        if a[f] < b[f]:\n",
        "            return False\n",
        "        n_better += a[f] > b[f]\n",
        "\n",
        "    if n_better > 0:\n",
        "        return True\n",
        "    return False"
      ],
      "metadata": {
        "id": "M0TJWckyLVN0"
      },
      "execution_count": null,
      "outputs": []
    },
    {
      "cell_type": "markdown",
      "source": [
        "Membuat method a_dominates_b untuk melakukan check nilai pembanding minimum dan maksimum dari kolom dengan pengembalian boolean"
      ],
      "metadata": {
        "id": "KlRkGLZ0sGQK"
      }
    },
    {
      "cell_type": "code",
      "source": [
        "x = {'Health_Status': 5, 'Often_not_enough_to_eat': 100}\n",
        "y = {'Health_Status': 2, 'Often_not_enough_to_eat': 500}\n",
        "a_dominates_b(x, y, to_min=['Often_not_enough_to_eat'], to_max=['Health_Status'])"
      ],
      "metadata": {
        "colab": {
          "base_uri": "https://localhost:8080/"
        },
        "id": "ce7xA1LeLZ_3",
        "outputId": "4711181a-4888-4ef1-ea77-188a75e83754"
      },
      "execution_count": null,
      "outputs": [
        {
          "output_type": "execute_result",
          "data": {
            "text/plain": [
              "True"
            ]
          },
          "metadata": {},
          "execution_count": 25
        }
      ]
    },
    {
      "cell_type": "markdown",
      "source": [
        "Code di atas merupakan pemanggilan fungsi a_dominates_b"
      ],
      "metadata": {
        "id": "BwZvKn8DsQ-Y"
      }
    },
    {
      "cell_type": "code",
      "source": [
        "def find_skyline_brute_force(df, to_min, to_max):\n",
        "\n",
        "    rows = df.to_dict(orient='index')\n",
        "\n",
        "    skyline = set()\n",
        "\n",
        "    for i in rows:\n",
        "\n",
        "        dominated = False\n",
        "\n",
        "        for j in rows:\n",
        "\n",
        "            if i == j:\n",
        "                continue\n",
        "\n",
        "            if a_dominates_b(rows[j], rows[i], to_min, to_max):\n",
        "                dominated = True\n",
        "                break\n",
        "\n",
        "        if not dominated:\n",
        "            skyline.add(i)\n",
        "\n",
        "    return pd.Series(df.index.isin(skyline), index=df.index)"
      ],
      "metadata": {
        "id": "Sp6f4hWGLg6M"
      },
      "execution_count": null,
      "outputs": []
    },
    {
      "cell_type": "markdown",
      "source": [
        "Code di atas merupakan pembuatan method brute force untuk algoritma skyline query."
      ],
      "metadata": {
        "id": "U1u1hNxts2hi"
      }
    },
    {
      "cell_type": "code",
      "source": [
        "skyline = find_skyline_brute_force(skyline_data, to_min=['Often_not_enough_to_eat'], to_max=['Health_Status'])\n",
        "\n",
        "colors = skyline.map({True: 'C3', False: 'C0'})\n",
        "plot = skyline_data.plot.scatter(x = 'Health_Status', y = 'Often_not_enough_to_eat', c=colors, alpha=0.8)\n",
        "plot.set_title('Food skyline')"
      ],
      "metadata": {
        "colab": {
          "base_uri": "https://localhost:8080/",
          "height": 313
        },
        "id": "i9ZNEhmlLj2F",
        "outputId": "79893dde-3398-445a-c173-ec674c8374fa"
      },
      "execution_count": null,
      "outputs": [
        {
          "output_type": "execute_result",
          "data": {
            "text/plain": [
              "Text(0.5, 1.0, 'Food skyline')"
            ]
          },
          "metadata": {},
          "execution_count": 27
        },
        {
          "output_type": "display_data",
          "data": {
            "image/png": "[encoded data removed]",
            "text/plain": [
              "<Figure size 432x288 with 1 Axes>"
            ]
          },
          "metadata": {
            "needs_background": "light"
          }
        }
      ]
    },
    {
      "cell_type": "markdown",
      "source": [
        "Pemanggilan fungsi brute force dan dilakukan plotting skyline untuk melihat hasil setelah dilakukan skyline query."
      ],
      "metadata": {
        "id": "qVIUna1TtzE6"
      }
    },
    {
      "cell_type": "code",
      "source": [],
      "metadata": {
        "id": "YhAWprKrt4Wq"
      },
      "execution_count": null,
      "outputs": []
    }
  ]
}